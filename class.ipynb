{
 "cells": [
  {
   "cell_type": "markdown",
   "metadata": {},
   "source": [
    "# Class\n",
    "\n",
    "### class 생성"
   ]
  },
  {
   "cell_type": "code",
   "execution_count": 3,
   "metadata": {},
   "outputs": [],
   "source": [
    "class Seul:\n",
    "    def __init__(self):\n",
    "        print('Seul 클래스 선언! ')\n",
    "    def show(self):\n",
    "        print('show 실행!')"
   ]
  },
  {
   "cell_type": "code",
   "execution_count": 2,
   "metadata": {},
   "outputs": [
    {
     "name": "stdout",
     "output_type": "stream",
     "text": [
      "Seul 클래스 선언! \n"
     ]
    }
   ],
   "source": [
    "#a라는 변수에 Seul이라는 클래스 생성-> __init__ 실행됨\n",
    "a = Seul()"
   ]
  },
  {
   "cell_type": "code",
   "execution_count": 5,
   "metadata": {},
   "outputs": [
    {
     "name": "stdout",
     "output_type": "stream",
     "text": [
      "Seul 클래스 선언! \n"
     ]
    }
   ],
   "source": [
    "#show라는 함수를 추가해도 -> __init__ 만 실행됨 \n",
    "#show는 자동 실행되는 것이 아님 \n",
    "a_show= Seul()"
   ]
  },
  {
   "cell_type": "code",
   "execution_count": 6,
   "metadata": {},
   "outputs": [
    {
     "name": "stdout",
     "output_type": "stream",
     "text": [
      "show 실행!\n"
     ]
    }
   ],
   "source": [
    "#show를 실행하고 싶다면 \n",
    "a_show.show()"
   ]
  },
  {
   "cell_type": "markdown",
   "metadata": {},
   "source": [
    "b = Yes()<br>\n",
    "b.name<br>\n",
    "b.age<br>\n",
    "b.show<br>\n",
    "결과가 나올수 있도록 클래스를 만들 예정 "
   ]
  },
  {
   "cell_type": "code",
   "execution_count": 7,
   "metadata": {},
   "outputs": [],
   "source": [
    "class Yes:\n",
    "    def __init__(self):\n",
    "        self.name = input(\"이름 : \") #입력창이 뜸\n",
    "        self.age = input(\"나이 : \")\n",
    "    def show(self) : \n",
    "        print(\"나의 이름은 {}, 나이는 {}세입니다.\".format(self.name, self.age))"
   ]
  },
  {
   "cell_type": "code",
   "execution_count": 8,
   "metadata": {},
   "outputs": [],
   "source": [
    "b=Yes()"
   ]
  },
  {
   "cell_type": "code",
   "execution_count": 10,
   "metadata": {},
   "outputs": [
    {
     "name": "stdout",
     "output_type": "stream",
     "text": [
      "박보검\n",
      "30\n"
     ]
    }
   ],
   "source": [
    "print(b.name)\n",
    "print(b.age)"
   ]
  },
  {
   "cell_type": "code",
   "execution_count": 11,
   "metadata": {},
   "outputs": [
    {
     "name": "stdout",
     "output_type": "stream",
     "text": [
      "나의 이름은 박보검, 나이는 30세입니다.\n"
     ]
    }
   ],
   "source": [
    "b.show()"
   ]
  },
  {
   "cell_type": "markdown",
   "metadata": {},
   "source": [
    "### 상속\n",
    "\n",
    "상속받는 클래스는 ()추가되고 거기 안에 상속받을 클래스를 적어둔다<br>\n",
    "__init__ 함수 새로 안해도 되지만 <br>\n",
    "성별에 따른 gender 변수를 추가할 계획이므로  __init__ 함수 새로 선언 <br>\n",
    "이렇게 되면 기존의 __init__ 함수는 내용 사라지고 새로운 __init__ 함수로 덮어진다 <br>\n",
    "super().__init__() 이걸 적으면 기존 __init__ 함수를 가지고 올 수 있음"
   ]
  },
  {
   "cell_type": "code",
   "execution_count": 23,
   "metadata": {},
   "outputs": [],
   "source": [
    "class Yes2(Yes):\n",
    "    def __init__(self):\n",
    "        super().__init__()\n",
    "        self.gender = input(\"성별 : \")\n",
    "    def show(self) : \n",
    "        print(\"나의 이름은 {}, 나이는 {}세 , 성별은 {}자 입니다.\".format(self.name, self.age, self.gender))"
   ]
  },
  {
   "cell_type": "code",
   "execution_count": 24,
   "metadata": {},
   "outputs": [],
   "source": [
    "c=Yes2()"
   ]
  },
  {
   "cell_type": "code",
   "execution_count": 22,
   "metadata": {},
   "outputs": [
    {
     "name": "stdout",
     "output_type": "stream",
     "text": [
      "나의 이름은 박보검, 나이는 30세입니다.\n"
     ]
    }
   ],
   "source": [
    "c.show()"
   ]
  },
  {
   "cell_type": "code",
   "execution_count": 13,
   "metadata": {},
   "outputs": [],
   "source": [
    "#똑같은걸 그대로 만들고 싶을때\n",
    "class Yes3(Yes):\n",
    "    pass"
   ]
  },
  {
   "cell_type": "code",
   "execution_count": 14,
   "metadata": {},
   "outputs": [],
   "source": [
    "d=Yes3()"
   ]
  },
  {
   "cell_type": "code",
   "execution_count": 15,
   "metadata": {},
   "outputs": [
    {
     "name": "stdout",
     "output_type": "stream",
     "text": [
      "나의 이름은 박보검, 나이는 30세입니다.\n"
     ]
    }
   ],
   "source": [
    "d.show()"
   ]
  },
  {
   "cell_type": "code",
   "execution_count": 16,
   "metadata": {},
   "outputs": [],
   "source": [
    "#__init__ 없게\n",
    "class Yes4(Yes):\n",
    "    def __init__(self):\n",
    "        pass"
   ]
  },
  {
   "cell_type": "code",
   "execution_count": 18,
   "metadata": {},
   "outputs": [],
   "source": [
    "#__init__ 없기때문에 아무일도 일어 나지 않음\n",
    "e=Yes4()\n"
   ]
  },
  {
   "cell_type": "code",
   "execution_count": 19,
   "metadata": {},
   "outputs": [
    {
     "ename": "AttributeError",
     "evalue": "'Yes4' object has no attribute 'name'",
     "output_type": "error",
     "traceback": [
      "\u001b[0;31m---------------------------------------------------------------------------\u001b[0m",
      "\u001b[0;31mAttributeError\u001b[0m                            Traceback (most recent call last)",
      "\u001b[1;32m/Users/yeseulseo/Coding_study/class.ipynb 셀 18\u001b[0m in \u001b[0;36m<cell line: 1>\u001b[0;34m()\u001b[0m\n\u001b[0;32m----> <a href='vscode-notebook-cell:/Users/yeseulseo/Coding_study/class.ipynb#X24sZmlsZQ%3D%3D?line=0'>1</a>\u001b[0m e\u001b[39m.\u001b[39;49mshow()\n",
      "\u001b[1;32m/Users/yeseulseo/Coding_study/class.ipynb 셀 18\u001b[0m in \u001b[0;36mYes.show\u001b[0;34m(self)\u001b[0m\n\u001b[1;32m      <a href='vscode-notebook-cell:/Users/yeseulseo/Coding_study/class.ipynb#X24sZmlsZQ%3D%3D?line=4'>5</a>\u001b[0m \u001b[39mdef\u001b[39;00m \u001b[39mshow\u001b[39m(\u001b[39mself\u001b[39m) : \n\u001b[0;32m----> <a href='vscode-notebook-cell:/Users/yeseulseo/Coding_study/class.ipynb#X24sZmlsZQ%3D%3D?line=5'>6</a>\u001b[0m     \u001b[39mprint\u001b[39m(\u001b[39m\"\u001b[39m\u001b[39m나의 이름은 \u001b[39m\u001b[39m{}\u001b[39;00m\u001b[39m, 나이는 \u001b[39m\u001b[39m{}\u001b[39;00m\u001b[39m세입니다.\u001b[39m\u001b[39m\"\u001b[39m\u001b[39m.\u001b[39mformat(\u001b[39mself\u001b[39;49m\u001b[39m.\u001b[39;49mname, \u001b[39mself\u001b[39m\u001b[39m.\u001b[39mage))\n",
      "\u001b[0;31mAttributeError\u001b[0m: 'Yes4' object has no attribute 'name'"
     ]
    }
   ],
   "source": [
    "#_init__ 없기때문에 오류발생\n",
    "e.show()"
   ]
  },
  {
   "cell_type": "code",
   "execution_count": 26,
   "metadata": {},
   "outputs": [],
   "source": [
    "class Cafe:\n",
    "    def __init__(self, coffee):\n",
    "        self.coffee=coffee\n",
    "\n",
    "    def show(self):\n",
    "        print(\"{}잔의 커피\" .format(self.coffee))\n",
    "    \n",
    "    def show1(self, coffee):\n",
    "        print(coffee)\n",
    "    \n",
    "    def show2(self, coffee):\n",
    "        print(\"그냥 coffee일때 {}\" .format(coffee))\n",
    "        print(\"seelf.coffee일때 {}\".format(self.coffee))\n",
    "    \n",
    "    "
   ]
  },
  {
   "cell_type": "code",
   "execution_count": 2,
   "metadata": {},
   "outputs": [
    {
     "ename": "TypeError",
     "evalue": "__init__() missing 1 required positional argument: 'coffee'",
     "output_type": "error",
     "traceback": [
      "\u001b[0;31m---------------------------------------------------------------------------\u001b[0m",
      "\u001b[0;31mTypeError\u001b[0m                                 Traceback (most recent call last)",
      "\u001b[1;32m/Users/yeseulseo/Coding_study/class.ipynb 셀 22\u001b[0m in \u001b[0;36m<cell line: 1>\u001b[0;34m()\u001b[0m\n\u001b[0;32m----> <a href='vscode-notebook-cell:/Users/yeseulseo/Coding_study/class.ipynb#X30sZmlsZQ%3D%3D?line=0'>1</a>\u001b[0m star\u001b[39m=\u001b[39mCafe()\n",
      "\u001b[0;31mTypeError\u001b[0m: __init__() missing 1 required positional argument: 'coffee'"
     ]
    }
   ],
   "source": [
    "#coffee 인자를 적어주지 않아서 오류뜸\n",
    "star=Cafe()"
   ]
  },
  {
   "cell_type": "code",
   "execution_count": 4,
   "metadata": {},
   "outputs": [],
   "source": [
    "star=Cafe(10)"
   ]
  },
  {
   "cell_type": "code",
   "execution_count": 5,
   "metadata": {},
   "outputs": [
    {
     "data": {
      "text/plain": [
       "<__main__.Cafe at 0x107c73580>"
      ]
     },
     "execution_count": 5,
     "metadata": {},
     "output_type": "execute_result"
    }
   ],
   "source": [
    "star"
   ]
  },
  {
   "cell_type": "code",
   "execution_count": 6,
   "metadata": {},
   "outputs": [
    {
     "name": "stdout",
     "output_type": "stream",
     "text": [
      "10잔의 커피\n"
     ]
    }
   ],
   "source": [
    "star.show()"
   ]
  },
  {
   "cell_type": "code",
   "execution_count": 7,
   "metadata": {},
   "outputs": [],
   "source": [
    "baek=Cafe(100)"
   ]
  },
  {
   "cell_type": "code",
   "execution_count": 8,
   "metadata": {},
   "outputs": [
    {
     "name": "stdout",
     "output_type": "stream",
     "text": [
      "100잔의 커피\n"
     ]
    }
   ],
   "source": [
    "baek.show()"
   ]
  },
  {
   "cell_type": "code",
   "execution_count": 27,
   "metadata": {},
   "outputs": [],
   "source": [
    "twosome=Cafe(20)"
   ]
  },
  {
   "cell_type": "code",
   "execution_count": 28,
   "metadata": {},
   "outputs": [
    {
     "name": "stdout",
     "output_type": "stream",
     "text": [
      "20잔의 커피\n"
     ]
    }
   ],
   "source": [
    "twosome.show()"
   ]
  },
  {
   "cell_type": "code",
   "execution_count": 29,
   "metadata": {},
   "outputs": [
    {
     "ename": "TypeError",
     "evalue": "show1() missing 1 required positional argument: 'coffee'",
     "output_type": "error",
     "traceback": [
      "\u001b[0;31m---------------------------------------------------------------------------\u001b[0m",
      "\u001b[0;31mTypeError\u001b[0m                                 Traceback (most recent call last)",
      "\u001b[1;32m/Users/yeseulseo/Coding_study/class.ipynb 셀 30\u001b[0m in \u001b[0;36m<cell line: 1>\u001b[0;34m()\u001b[0m\n\u001b[0;32m----> <a href='vscode-notebook-cell:/Users/yeseulseo/Coding_study/class.ipynb#X44sZmlsZQ%3D%3D?line=0'>1</a>\u001b[0m twosome\u001b[39m.\u001b[39;49mshow1()\n",
      "\u001b[0;31mTypeError\u001b[0m: show1() missing 1 required positional argument: 'coffee'"
     ]
    }
   ],
   "source": [
    "#인자를 안적어줘서 \n",
    "twosome.show1()"
   ]
  },
  {
   "cell_type": "markdown",
   "metadata": {},
   "source": [
    "coffee랑 self.coffee 차이점"
   ]
  },
  {
   "cell_type": "code",
   "execution_count": 30,
   "metadata": {},
   "outputs": [
    {
     "name": "stdout",
     "output_type": "stream",
     "text": [
      "1000\n"
     ]
    }
   ],
   "source": [
    "twosome.show1(1000)"
   ]
  },
  {
   "cell_type": "code",
   "execution_count": 31,
   "metadata": {},
   "outputs": [
    {
     "name": "stdout",
     "output_type": "stream",
     "text": [
      "그냥 coffee일때 1000\n",
      "seelf.coffee일때 20\n"
     ]
    }
   ],
   "source": [
    "twosome.show2(1000)"
   ]
  },
  {
   "cell_type": "markdown",
   "metadata": {},
   "source": [
    "### 신용카드 만들기 \n",
    "1. 잔액을 표시하는 함수\n",
    "2. 돈을 사용하는 함수 (사용하고 잔액까지 표시)\n",
    "3. 돈을 다시 충전하는 함수 (충전하고 잔액까지 표시)"
   ]
  },
  {
   "cell_type": "code",
   "execution_count": 53,
   "metadata": {},
   "outputs": [],
   "source": [
    "class Card:\n",
    "    def __init__(self, money):\n",
    "        self.money = money\n",
    "        Card.balance(self) #카드를 발급하자말자 바로 금액을 확인 할 수 있도록 \n",
    "\n",
    "    def balance(self):\n",
    "        print(\"{}원 잔액이 남았습니다.\".format(self.money))\n",
    "\n",
    "    def charge(self,money):\n",
    "        self.money += money\n",
    "        Card.balance(self)\n",
    "    \n",
    "    def use(self, money):\n",
    "        if self.money >=money:\n",
    "            self.money -= money\n",
    "            Card.balance(self)\n",
    "        else :\n",
    "            print(\"잔액이 부족합니다.\")\n",
    "        \n",
    "\n",
    "\n"
   ]
  },
  {
   "cell_type": "code",
   "execution_count": 54,
   "metadata": {},
   "outputs": [
    {
     "name": "stdout",
     "output_type": "stream",
     "text": [
      "10000원 잔액이 남았습니다.\n"
     ]
    }
   ],
   "source": [
    "kb = Card(10000)"
   ]
  },
  {
   "cell_type": "code",
   "execution_count": 55,
   "metadata": {},
   "outputs": [
    {
     "name": "stdout",
     "output_type": "stream",
     "text": [
      "210000원 잔액이 남았습니다.\n"
     ]
    }
   ],
   "source": [
    "kb.charge(200000)"
   ]
  },
  {
   "cell_type": "code",
   "execution_count": 56,
   "metadata": {},
   "outputs": [
    {
     "name": "stdout",
     "output_type": "stream",
     "text": [
      "잔액이 부족합니다.\n"
     ]
    }
   ],
   "source": [
    "kb.use(300000)"
   ]
  },
  {
   "cell_type": "code",
   "execution_count": 57,
   "metadata": {},
   "outputs": [
    {
     "name": "stdout",
     "output_type": "stream",
     "text": [
      "210000원 잔액이 남았습니다.\n"
     ]
    }
   ],
   "source": [
    "kb.balance()"
   ]
  },
  {
   "cell_type": "code",
   "execution_count": 52,
   "metadata": {},
   "outputs": [
    {
     "name": "stdout",
     "output_type": "stream",
     "text": [
      "200000원 잔액이 남았습니다.\n"
     ]
    }
   ],
   "source": [
    "kb.use(10000)"
   ]
  },
  {
   "cell_type": "code",
   "execution_count": null,
   "metadata": {},
   "outputs": [],
   "source": []
  }
 ],
 "metadata": {
  "kernelspec": {
   "display_name": "Python 3.8.13 ('CP2')",
   "language": "python",
   "name": "python3"
  },
  "language_info": {
   "codemirror_mode": {
    "name": "ipython",
    "version": 3
   },
   "file_extension": ".py",
   "mimetype": "text/x-python",
   "name": "python",
   "nbconvert_exporter": "python",
   "pygments_lexer": "ipython3",
   "version": "3.8.13"
  },
  "orig_nbformat": 4,
  "vscode": {
   "interpreter": {
    "hash": "0abf090d9dda533e1a1f0afb93b47f46b5aeedc08870680a63b3c45a05da24f7"
   }
  }
 },
 "nbformat": 4,
 "nbformat_minor": 2
}
