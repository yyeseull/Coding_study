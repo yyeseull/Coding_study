{
 "cells": [
  {
   "cell_type": "markdown",
   "metadata": {},
   "source": [
    "# 연결리스트 "
   ]
  },
  {
   "cell_type": "code",
   "execution_count": 2,
   "metadata": {},
   "outputs": [],
   "source": [
    "# 노드 설정\n",
    "class Node:\n",
    "    def __init__(self, data, next=None, prev=None):\n",
    "        self.data = data\n",
    "        self.next = next\n",
    "        self.prev = prev\n",
    "\n",
    "\n",
    "# 연결 리스트 구현\n",
    "class LinkedList:\n",
    "    def __init__(self, data):\n",
    "        self.head = Node(data)\n",
    "        self.cnt = 1\n",
    "\n",
    "\n",
    "    # 노드 연결    \n",
    "    def append(self, data):\n",
    "        self.cnt += 1\n",
    "        cur = self.head\n",
    "        while cur.next:\n",
    "            cur = cur.next\n",
    "        cur.next = Node(data)\n",
    "        cur.next.prev = cur\n",
    "        \n",
    "\n",
    "    # 인덱스에 위치해있는 노드 가져오는 함수\n",
    "    def get_node(self, index):\n",
    "        count = 0\n",
    "        node = self.head\n",
    "        while count < index:\n",
    "            count += 1\n",
    "            node = node.next\n",
    "        return node\n",
    "\n",
    "    # 새로운 노드를 추가하는 함수(원하는 위치에 삽입하는 경우도 고려)\n",
    "    def add_node(self, index, data):\n",
    "        new_node = Node(data)\n",
    "        if index == 0:\n",
    "            self.cnt += 1\n",
    "            \n",
    "            new_node.next = self.head\n",
    "            self.head.prev = new_node\n",
    "            self.head = new_node\n",
    "            return\n",
    "        else:\n",
    "            self.cnt += 1\n",
    "            \n",
    "            node = self.get_node(index-1)\n",
    "            if node.next != None:\n",
    "                next_node = node.next\n",
    "                node.next = new_node\n",
    "                new_node.prev = node\n",
    "\n",
    "                new_node.next = next_node\n",
    "                next_node.prev = new_node\n",
    "            else:\n",
    "                node.next = new_node\n",
    "                new_node.next = None\n",
    "                new_node.prev = node\n",
    "            \n",
    "\n",
    "\n",
    "    # 노드를 삭제하는 함수(원하는 위치의 삭제하는 경우도 고려)    \n",
    "    def delete_node(self, index):\n",
    "        if index == 0:\n",
    "            self.cnt -= 1\n",
    "            print(\"삭제할 위치(인덱스): \", index, \" 삭제할 노드: \", self.head.data, '\\n')\n",
    "            self.head = self.head.next\n",
    "            self.head.prev = None\n",
    "            return\n",
    "        else:\n",
    "            self.cnt -= 1\n",
    "            node = self.get_node(index-1)\n",
    "            print(\"삭제할 위치(인덱스): \", index, \" 삭제할 노드: \", node.next.data, '\\n')\n",
    "            if node.next.next != None:\n",
    "                node.next = node.next.next\n",
    "                node.next.prev = node\n",
    "            else:\n",
    "                node.next = None\n",
    "            \n",
    "            \n",
    "\n",
    "    \n",
    "    # 출력\n",
    "    def print_all(self):\n",
    "        cur = self.head\n",
    "        while cur:\n",
    "            if cur.prev == None:\n",
    "                print(\"현재 노드: \",cur.data, \" 이전 노드: \", cur.prev, \" 다음 노드: \", cur.next.data)\n",
    "            elif cur.next == None:\n",
    "                print(\"현재 노드: \",cur.data, \" 이전 노드: \", cur.prev.data, \" 다음 노드: \", cur.next)\n",
    "            else:\n",
    "                print(\"현재 노드: \",cur.data, \" 이전 노드: \", cur.prev.data, \" 다음 노드: \", cur.next.data)\n",
    "            cur = cur.next\n"
   ]
  },
  {
   "cell_type": "code",
   "execution_count": 3,
   "metadata": {},
   "outputs": [
    {
     "name": "stdout",
     "output_type": "stream",
     "text": [
      "1번 노드의 값:  1\n",
      "1번 노드의 다음 값:  None\n",
      "\n",
      "2번 노드의 값:  10\n",
      "2번 노드의 이전 값:  None\n"
     ]
    }
   ],
   "source": [
    "# 지금은 연결을 안한 상태를 보여줄게\n",
    "node1 = Node(1)\n",
    "node2 = Node(10)\n",
    "\n",
    "print(\"1번 노드의 값: \",node1.data)\n",
    "print(\"1번 노드의 다음 값: \", node1.next)\n",
    "print()\n",
    "\n",
    "print(\"2번 노드의 값: \", node2.data)\n",
    "print(\"2번 노드의 이전 값: \", node2.prev)"
   ]
  },
  {
   "cell_type": "code",
   "execution_count": null,
   "metadata": {},
   "outputs": [],
   "source": []
  }
 ],
 "metadata": {
  "kernelspec": {
   "display_name": "Python 3.8.13 ('CP2')",
   "language": "python",
   "name": "python3"
  },
  "language_info": {
   "codemirror_mode": {
    "name": "ipython",
    "version": 3
   },
   "file_extension": ".py",
   "mimetype": "text/x-python",
   "name": "python",
   "nbconvert_exporter": "python",
   "pygments_lexer": "ipython3",
   "version": "3.8.13"
  },
  "orig_nbformat": 4,
  "vscode": {
   "interpreter": {
    "hash": "0abf090d9dda533e1a1f0afb93b47f46b5aeedc08870680a63b3c45a05da24f7"
   }
  }
 },
 "nbformat": 4,
 "nbformat_minor": 2
}
